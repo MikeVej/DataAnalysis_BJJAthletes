{
 "cells": [
  {
   "cell_type": "markdown",
   "metadata": {},
   "source": [
    "# Brazillian Jiu-Jitsu Data Analysis (**Work in Progress**)\n",
    "---\n",
    "Howdy!\n",
    "\n",
    "### **Introduction:**\n",
    "\n",
    "For this project, I am conducting an exploratory analysis on the top BJJ athletes in the world.\n",
    "\n",
    "\n",
    "\n",
    "#### **Project Framework:**\n",
    "\n",
    "**Data Obtaining:** Scrap data from bjjheroes.com which is a bjj news site that has a database of BJJ athletes from A-Z\n",
    "\n",
    "**Data Cleaning:** Clean the data that comes in from the data pull from the URL\n",
    "\n",
    "**Build a Model:** Decision tree model to see what factors contribute to BJJ fighters winning their matches\n",
    "\n",
    "**Data Analysis:** Display analysis "
   ]
  },
  {
   "cell_type": "code",
   "execution_count": null,
   "metadata": {},
   "outputs": [],
   "source": []
  }
 ],
 "metadata": {
  "language_info": {
   "name": "python"
  }
 },
 "nbformat": 4,
 "nbformat_minor": 2
}
